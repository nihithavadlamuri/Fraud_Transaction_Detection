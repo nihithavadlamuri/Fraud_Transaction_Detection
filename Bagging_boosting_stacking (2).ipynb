{
 "cells": [
  {
   "cell_type": "code",
   "execution_count": 1,
   "metadata": {
    "colab": {
     "base_uri": "https://localhost:8080/",
     "height": 241
    },
    "id": "ZtYfJRvJfKaM",
    "outputId": "8db823b7-8f76-4a75-91f3-6d06b02e29a8"
   },
   "outputs": [
    {
     "ename": "ModuleNotFoundError",
     "evalue": "No module named 'google.colab'",
     "output_type": "error",
     "traceback": [
      "\u001b[0;31m---------------------------------------------------------------------------\u001b[0m",
      "\u001b[0;31mModuleNotFoundError\u001b[0m                       Traceback (most recent call last)",
      "Cell \u001b[0;32mIn[1], line 3\u001b[0m\n\u001b[1;32m      1\u001b[0m \u001b[38;5;66;03m### for accessing file from google drive\u001b[39;00m\n\u001b[1;32m      2\u001b[0m \u001b[38;5;28;01mimport\u001b[39;00m \u001b[38;5;21;01mpandas\u001b[39;00m \u001b[38;5;28;01mas\u001b[39;00m \u001b[38;5;21;01mpd\u001b[39;00m\n\u001b[0;32m----> 3\u001b[0m \u001b[38;5;28;01mfrom\u001b[39;00m \u001b[38;5;21;01mgoogle\u001b[39;00m\u001b[38;5;21;01m.\u001b[39;00m\u001b[38;5;21;01mcolab\u001b[39;00m \u001b[38;5;28;01mimport\u001b[39;00m drive\n\u001b[1;32m      4\u001b[0m drive\u001b[38;5;241m.\u001b[39mmount(\u001b[38;5;124m'\u001b[39m\u001b[38;5;124m/content/drive\u001b[39m\u001b[38;5;124m'\u001b[39m)\n\u001b[1;32m      5\u001b[0m get_ipython()\u001b[38;5;241m.\u001b[39mrun_line_magic(\u001b[38;5;124m'\u001b[39m\u001b[38;5;124mcd\u001b[39m\u001b[38;5;124m'\u001b[39m, \u001b[38;5;124m'\u001b[39m\u001b[38;5;124m/content/drive/My\u001b[39m\u001b[38;5;130;01m\\\\\u001b[39;00m\u001b[38;5;124m Drive/MLlab/oct-mtech/\u001b[39m\u001b[38;5;124m'\u001b[39m)\n",
      "\u001b[0;31mModuleNotFoundError\u001b[0m: No module named 'google.colab'"
     ]
    }
   ],
   "source": [
    "### for accessing file from google drive\n",
    "import pandas as pd\n",
    "from google.colab import drive\n",
    "drive.mount('/content/drive')\n",
    "%cd /content/drive/My\\ Drive/MLlab/oct-mtech/\n",
    "df =pd.read_csv(\"diabetes.csv\")\n",
    "df.head()"
   ]
  },
  {
   "cell_type": "code",
   "execution_count": null,
   "metadata": {
    "id": "RGlGBOTOL4jl"
   },
   "outputs": [],
   "source": []
  },
  {
   "cell_type": "code",
   "execution_count": null,
   "metadata": {
    "colab": {
     "base_uri": "https://localhost:8080/"
    },
    "id": "e-B7wu4NfUm1",
    "outputId": "479e69ce-c307-481b-921f-22f1a0ea4f71"
   },
   "outputs": [],
   "source": [
    "# How many missingvalues are mising in each feature\n",
    "feature_columns = ['Glucose', 'BloodPressure', 'SkinThickness',\n",
    "    'Insulin', 'BMI', 'DiabetesPedigreeFunction', 'Age'\n",
    "]\n",
    "for column in feature_columns:\n",
    "    print(\"============================================\")\n",
    "    print(f\"{column} ==> Missing values : {len(df.loc[df[column] == 0])}\")"
   ]
  },
  {
   "cell_type": "code",
   "execution_count": null,
   "metadata": {
    "colab": {
     "base_uri": "https://localhost:8080/"
    },
    "id": "lePm5ZcVfVXK",
    "outputId": "a86c8be5-df22-4398-aa2f-f154cf73a38c"
   },
   "outputs": [],
   "source": [
    "from sklearn.impute import SimpleImputer\n",
    "fill_values = SimpleImputer(missing_values=0, strategy=\"mean\", copy=False)\n",
    "df[feature_columns] = fill_values.fit_transform(df[feature_columns])\n",
    "\n",
    "for column in feature_columns:\n",
    "    print(\"============================================\")\n",
    "    print(f\"{column} ==> Missing values : {len(df.loc[df[column] == 0])}\")"
   ]
  },
  {
   "cell_type": "code",
   "execution_count": null,
   "metadata": {
    "colab": {
     "base_uri": "https://localhost:8080/"
    },
    "id": "byG9HCftf0nA",
    "outputId": "2325577e-bde3-4ae9-ca81-54fbc45df1bc"
   },
   "outputs": [],
   "source": [
    "df.shape"
   ]
  },
  {
   "cell_type": "code",
   "execution_count": null,
   "metadata": {
    "id": "jC0I6sIcf1oZ"
   },
   "outputs": [],
   "source": [
    "from sklearn.model_selection import train_test_split\n",
    "X = df[feature_columns]\n",
    "y = df.Outcome\n",
    "X_train, X_test, y_train, y_test = train_test_split(X, y, test_size=0.3, random_state=42)"
   ]
  },
  {
   "cell_type": "code",
   "execution_count": null,
   "metadata": {
    "colab": {
     "base_uri": "https://localhost:8080/"
    },
    "id": "fsNx7IsqPIeQ",
    "outputId": "26b1a4df-0247-4d5a-caae-f1b4bdf964df"
   },
   "outputs": [],
   "source": [
    "####pure SVM classifier\n",
    "\n",
    "from sklearn.svm import SVC\n",
    "from sklearn.metrics import f1_score\n",
    "svm = SVC(kernel='linear', random_state=42)\n",
    "svm.fit(X_train, y_train)\n",
    "y_pred = svm.predict(X_test)\n",
    "f1_measure = f1_score(y_test,y_pred)\n",
    "print(\"F-measure:\", f1_measure)\n"
   ]
  },
  {
   "cell_type": "markdown",
   "metadata": {
    "id": "sz4jxWTDjwwX"
   },
   "source": [
    "**SVM used in bagging to create diffetent models**"
   ]
  },
  {
   "cell_type": "code",
   "execution_count": null,
   "metadata": {
    "colab": {
     "base_uri": "https://localhost:8080/"
    },
    "id": "ov1OXihDGA7A",
    "outputId": "324232b6-9648-470b-af7f-52690f67f095"
   },
   "outputs": [],
   "source": [
    "from sklearn.svm import SVC\n",
    "from sklearn.ensemble import BaggingClassifier\n",
    "from sklearn.metrics import f1_score\n",
    "\n",
    "svm = SVC(kernel='linear', random_state=42)\n",
    "bagging = BaggingClassifier(base_estimator=svm, n_estimators=15, random_state=42)\n",
    "bagging.fit(X_train, y_train)\n",
    "y_pred = bagging.predict(X_test)\n",
    "f1_measure = f1_score(y_test,y_pred)\n",
    "print(\"F-measure:\", f1_measure)"
   ]
  },
  {
   "cell_type": "markdown",
   "metadata": {
    "id": "fAATESJgjOip"
   },
   "source": [
    "**Initialize different classifiers***"
   ]
  },
  {
   "cell_type": "code",
   "execution_count": null,
   "metadata": {
    "id": "5VEY-Z8ehUNG"
   },
   "outputs": [],
   "source": [
    "from sklearn.ensemble import BaggingClassifier\n",
    "from sklearn.svm import SVC\n",
    "from sklearn.naive_bayes import GaussianNB\n",
    "from sklearn.tree import DecisionTreeClassifier\n",
    "from sklearn.ensemble import RandomForestClassifier\n",
    "from sklearn.datasets import make_classification\n",
    "from sklearn.model_selection import train_test_split"
   ]
  },
  {
   "cell_type": "code",
   "execution_count": null,
   "metadata": {
    "colab": {
     "base_uri": "https://localhost:8080/"
    },
    "id": "shG0JCbwf6PS",
    "outputId": "1baa4715-b391-4591-a5fd-fd368a9f5351"
   },
   "outputs": [],
   "source": [
    "svm = SVC(kernel='linear',random_state=42)\n",
    "naive_bayes = GaussianNB()\n",
    "decision_tree = DecisionTreeClassifier(random_state=42)\n",
    "random_forest = RandomForestClassifier(random_state=42)\n",
    "base_estimators = [svm, naive_bayes, decision_tree, random_forest]\n",
    "bagging = BaggingClassifier(base_estimator=None)\n",
    "bagging.estimators_ = base_estimators\n",
    "bagging.fit(X_train, y_train)\n",
    "y_pred = bagging.predict(X_test)\n",
    "f1_measure = f1_score(y_test,y_pred)\n",
    "print(\"F-measure:\", f1_measure)\n"
   ]
  },
  {
   "cell_type": "markdown",
   "metadata": {
    "id": "abm38zMMHL7J"
   },
   "source": [
    "**BOOSTING**"
   ]
  },
  {
   "cell_type": "code",
   "execution_count": null,
   "metadata": {
    "colab": {
     "base_uri": "https://localhost:8080/"
    },
    "id": "iw-lVEqAhSau",
    "outputId": "4797a1ab-a4b8-409b-d7df-9ffa8ec57ca8"
   },
   "outputs": [],
   "source": [
    "from sklearn.ensemble import GradientBoostingClassifier\n",
    "gb = GradientBoostingClassifier(n_estimators=100, learning_rate=0.7, random_state=42)\n",
    "gb.fit(X_train, y_train)\n",
    "y_pred = gb.predict(X_test)\n",
    "f1_measure = f1_score(y_test,y_pred)\n",
    "print(\"F-measure:\", f1_measure)"
   ]
  },
  {
   "cell_type": "code",
   "execution_count": null,
   "metadata": {
    "colab": {
     "base_uri": "https://localhost:8080/"
    },
    "id": "cv-Gi5KHHtiY",
    "outputId": "4bdccbb9-4aab-4a0f-a8e7-8be49e41939a"
   },
   "outputs": [],
   "source": [
    "from sklearn.ensemble import AdaBoostClassifier\n",
    "\n",
    "adaboost = AdaBoostClassifier(n_estimators=100, learning_rate=0.7, random_state=42)\n",
    "adaboost.fit(X_train, y_train)\n",
    "y_pred = adaboost.predict(X_test)\n",
    "f1_measure = f1_score(y_test,y_pred)\n",
    "print(\"F-measure:\", f1_measure)"
   ]
  },
  {
   "cell_type": "code",
   "execution_count": null,
   "metadata": {
    "colab": {
     "base_uri": "https://localhost:8080/"
    },
    "id": "g6AFezPDHvTY",
    "outputId": "b3824d75-faee-4c4d-99ec-fdb3932bbaa1"
   },
   "outputs": [],
   "source": [
    "import lightgbm as lgb\n",
    "\n",
    "lgb_model = lgb.LGBMClassifier(n_estimators=100, learning_rate=0.1, random_state=42)\n",
    "lgb_model.fit(X_train, y_train)\n",
    "y_pred = lgb_model.predict(X_test)\n",
    "f1_measure = f1_score(y_test,y_pred)\n",
    "print(\"F-measure:\", f1_measure)\n"
   ]
  },
  {
   "cell_type": "markdown",
   "metadata": {
    "id": "EgPosL-PHQ8R"
   },
   "source": [
    "**Stacking**"
   ]
  },
  {
   "cell_type": "code",
   "execution_count": null,
   "metadata": {
    "id": "H2wP-WCoHHDF"
   },
   "outputs": [],
   "source": [
    "from sklearn.ensemble import RandomForestClassifier\n",
    "from sklearn.neighbors import KNeighborsClassifier\n",
    "from sklearn.tree import DecisionTreeClassifier\n",
    "from sklearn.linear_model import LogisticRegression\n",
    "from sklearn.ensemble import StackingClassifier\n",
    "from sklearn.ensemble import GradientBoostingClassifier"
   ]
  },
  {
   "cell_type": "markdown",
   "metadata": {
    "id": "Q-DvbBq3GOvs"
   },
   "source": [
    "from sklearn.ensemble import RandomForestClassifier\n",
    "from sklearn.neighbors import KNeighborsClassifier\n",
    "from sklearn.tree import DecisionTreeClassifier\n",
    "from sklearn.linear_model import LogisticRegression\n",
    "from sklearn.ensemble import StackingClassifier\n",
    "from sklearn.ensemble import GradientBoostingClassifier\n"
   ]
  },
  {
   "cell_type": "markdown",
   "metadata": {
    "id": "ZYyQX-9bGXWH"
   },
   "source": [
    "('rf', RandomForestClassifier(n_estimators=10, random_state=42)),\n"
   ]
  },
  {
   "cell_type": "code",
   "execution_count": null,
   "metadata": {
    "colab": {
     "base_uri": "https://localhost:8080/"
    },
    "id": "lhKOfd4EY4L-",
    "outputId": "d5f1693b-19e2-4e0d-afc0-9e2ff9e1b0d6"
   },
   "outputs": [],
   "source": [
    "estimators = [('rf', RandomForestClassifier(n_estimators=10, random_state=42)),\n",
    "              ('knn', KNeighborsClassifier(n_neighbors=5)),\n",
    "              ('dt', DecisionTreeClassifier(random_state=42))]\n",
    "meta_estimator = svm\n",
    "## LogisticRegression()\n",
    "stacking = StackingClassifier(estimators=estimators, final_estimator=meta_estimator)\n",
    "stacking.fit(X_train, y_train)\n",
    "y_pred = stacking.predict(X_test)\n",
    "f1_measure = f1_score(y_test,y_pred)\n",
    "print(\"F-measure:\", f1_measure)\n"
   ]
  },
  {
   "cell_type": "code",
   "execution_count": null,
   "metadata": {
    "colab": {
     "base_uri": "https://localhost:8080/"
    },
    "id": "j4qCjtdyPGwT",
    "outputId": "4a669e4a-37d3-4b62-ee4c-e55302fd1d4b"
   },
   "outputs": [],
   "source": [
    "from tensorflow.keras.models import Sequential\n",
    "from tensorflow.keras.layers import Dense\n",
    "from sklearn.ensemble import StackingClassifier\n",
    "from sklearn.ensemble import RandomForestClassifier, GradientBoostingClassifier\n",
    "from sklearn.neighbors import KNeighborsClassifier\n",
    "from sklearn.tree import DecisionTreeClassifier\n",
    "from sklearn.metrics import accuracy_score\n",
    "\n",
    "import numpy as np\n",
    "# Base classifiers\n",
    "base_estimators = [\n",
    "    RandomForestClassifier(n_estimators=10, random_state=42),\n",
    "    KNeighborsClassifier(n_neighbors=5),\n",
    "    DecisionTreeClassifier(random_state=42)\n",
    "]\n",
    "\n",
    "# Train base classifiers\n",
    "predictions = []\n",
    "for estimator in base_estimators:\n",
    "    estimator.fit(X_train, y_train)\n",
    "    preds = estimator.predict(X_train)\n",
    "    predictions.append(preds)\n",
    "\n",
    "# Convert predictions to features\n",
    "X_train_stacked = np.column_stack(predictions)\n",
    "\n",
    "# Neural network as the meta-estimator\n",
    "meta_model = Sequential([\n",
    "    Dense(64, activation='relu', input_shape=(X_train_stacked.shape[1],)),\n",
    "    Dense(32, activation='relu'),\n",
    "    Dense(1, activation='sigmoid')\n",
    "])\n",
    "\n",
    "meta_model.compile(optimizer='adam', loss='binary_crossentropy', metrics=['accuracy'])\n",
    "\n",
    "# Train meta-estimator\n",
    "meta_model.fit(X_train_stacked, y_train, epochs=10, batch_size=32)\n",
    "\n",
    "# Make predictions on test data\n",
    "predictions_test = []\n",
    "for estimator in base_estimators:\n",
    "    preds_test = estimator.predict(X_test)\n",
    "    predictions_test.append(preds_test)\n",
    "\n",
    "X_test_stacked = np.column_stack(predictions_test)\n",
    "y_pred_probs = meta_model.predict(X_test_stacked)\n",
    "y_pred = (y_pred_probs > 0.5).astype(int)\n",
    "\n",
    "\n",
    "from sklearn.metrics import f1_score\n",
    "f1_measure = f1_score(y_test,y_pred)\n",
    "print(\"F-measure:\", f1_measure)"
   ]
  },
  {
   "cell_type": "code",
   "execution_count": null,
   "metadata": {
    "id": "gi_R47tbQHBQ"
   },
   "outputs": [],
   "source": []
  }
 ],
 "metadata": {
  "colab": {
   "provenance": []
  },
  "kernelspec": {
   "display_name": "Python 3 (ipykernel)",
   "language": "python",
   "name": "python3"
  },
  "language_info": {
   "codemirror_mode": {
    "name": "ipython",
    "version": 3
   },
   "file_extension": ".py",
   "mimetype": "text/x-python",
   "name": "python",
   "nbconvert_exporter": "python",
   "pygments_lexer": "ipython3",
   "version": "3.11.5"
  }
 },
 "nbformat": 4,
 "nbformat_minor": 1
}
